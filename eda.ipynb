{
 "cells": [
  {
   "cell_type": "markdown",
   "id": "9c08cc27",
   "metadata": {},
   "source": [
    "# Olist E-commerce Reviews\n",
    "## Exploratory Data Analysis\n",
    "Author: Lucas Iuri"
   ]
  },
  {
   "cell_type": "code",
   "execution_count": 60,
   "id": "ae99b5f8",
   "metadata": {},
   "outputs": [],
   "source": [
    "import pandas as pd\n",
    "import seaborn as sns\n",
    "from matplotlib.pyplot import subplots\n",
    "\n",
    "sns.set_style('whitegrid')"
   ]
  },
  {
   "cell_type": "code",
   "execution_count": 5,
   "id": "655729b6",
   "metadata": {},
   "outputs": [
    {
     "data": {
      "text/html": [
       "<div>\n",
       "<style scoped>\n",
       "    .dataframe tbody tr th:only-of-type {\n",
       "        vertical-align: middle;\n",
       "    }\n",
       "\n",
       "    .dataframe tbody tr th {\n",
       "        vertical-align: top;\n",
       "    }\n",
       "\n",
       "    .dataframe thead th {\n",
       "        text-align: right;\n",
       "    }\n",
       "</style>\n",
       "<table border=\"1\" class=\"dataframe\">\n",
       "  <thead>\n",
       "    <tr style=\"text-align: right;\">\n",
       "      <th></th>\n",
       "      <th>order_id</th>\n",
       "      <th>customer_id</th>\n",
       "      <th>order_status</th>\n",
       "      <th>order_purchase_timestamp</th>\n",
       "      <th>order_approved_at</th>\n",
       "      <th>order_delivered_carrier_date</th>\n",
       "      <th>order_delivered_customer_date</th>\n",
       "      <th>order_estimated_delivery_date</th>\n",
       "      <th>review_id</th>\n",
       "      <th>review_score</th>\n",
       "      <th>...</th>\n",
       "      <th>product_name_lenght</th>\n",
       "      <th>product_description_lenght</th>\n",
       "      <th>product_photos_qty</th>\n",
       "      <th>product_weight_g</th>\n",
       "      <th>product_length_cm</th>\n",
       "      <th>product_height_cm</th>\n",
       "      <th>product_width_cm</th>\n",
       "      <th>seller_zip_code_prefix</th>\n",
       "      <th>seller_city</th>\n",
       "      <th>seller_state</th>\n",
       "    </tr>\n",
       "  </thead>\n",
       "  <tbody>\n",
       "    <tr>\n",
       "      <th>0</th>\n",
       "      <td>e481f51cbdc54678b7cc49136f2d6af7</td>\n",
       "      <td>9ef432eb6251297304e76186b10a928d</td>\n",
       "      <td>delivered</td>\n",
       "      <td>2017-10-02 10:56:33</td>\n",
       "      <td>2017-10-02 11:07:15</td>\n",
       "      <td>2017-10-04 19:55:00</td>\n",
       "      <td>2017-10-10 21:25:13</td>\n",
       "      <td>2017-10-18 00:00:00</td>\n",
       "      <td>a54f0611adc9ed256b57ede6b6eb5114</td>\n",
       "      <td>4.0</td>\n",
       "      <td>...</td>\n",
       "      <td>40.0</td>\n",
       "      <td>268.0</td>\n",
       "      <td>4.0</td>\n",
       "      <td>500.0</td>\n",
       "      <td>19.0</td>\n",
       "      <td>8.0</td>\n",
       "      <td>13.0</td>\n",
       "      <td>9350.0</td>\n",
       "      <td>maua</td>\n",
       "      <td>SP</td>\n",
       "    </tr>\n",
       "    <tr>\n",
       "      <th>1</th>\n",
       "      <td>e481f51cbdc54678b7cc49136f2d6af7</td>\n",
       "      <td>9ef432eb6251297304e76186b10a928d</td>\n",
       "      <td>delivered</td>\n",
       "      <td>2017-10-02 10:56:33</td>\n",
       "      <td>2017-10-02 11:07:15</td>\n",
       "      <td>2017-10-04 19:55:00</td>\n",
       "      <td>2017-10-10 21:25:13</td>\n",
       "      <td>2017-10-18 00:00:00</td>\n",
       "      <td>a54f0611adc9ed256b57ede6b6eb5114</td>\n",
       "      <td>4.0</td>\n",
       "      <td>...</td>\n",
       "      <td>40.0</td>\n",
       "      <td>268.0</td>\n",
       "      <td>4.0</td>\n",
       "      <td>500.0</td>\n",
       "      <td>19.0</td>\n",
       "      <td>8.0</td>\n",
       "      <td>13.0</td>\n",
       "      <td>9350.0</td>\n",
       "      <td>maua</td>\n",
       "      <td>SP</td>\n",
       "    </tr>\n",
       "    <tr>\n",
       "      <th>2</th>\n",
       "      <td>e481f51cbdc54678b7cc49136f2d6af7</td>\n",
       "      <td>9ef432eb6251297304e76186b10a928d</td>\n",
       "      <td>delivered</td>\n",
       "      <td>2017-10-02 10:56:33</td>\n",
       "      <td>2017-10-02 11:07:15</td>\n",
       "      <td>2017-10-04 19:55:00</td>\n",
       "      <td>2017-10-10 21:25:13</td>\n",
       "      <td>2017-10-18 00:00:00</td>\n",
       "      <td>a54f0611adc9ed256b57ede6b6eb5114</td>\n",
       "      <td>4.0</td>\n",
       "      <td>...</td>\n",
       "      <td>40.0</td>\n",
       "      <td>268.0</td>\n",
       "      <td>4.0</td>\n",
       "      <td>500.0</td>\n",
       "      <td>19.0</td>\n",
       "      <td>8.0</td>\n",
       "      <td>13.0</td>\n",
       "      <td>9350.0</td>\n",
       "      <td>maua</td>\n",
       "      <td>SP</td>\n",
       "    </tr>\n",
       "    <tr>\n",
       "      <th>3</th>\n",
       "      <td>53cdb2fc8bc7dce0b6741e2150273451</td>\n",
       "      <td>b0830fb4747a6c6d20dea0b8c802d7ef</td>\n",
       "      <td>delivered</td>\n",
       "      <td>2018-07-24 20:41:37</td>\n",
       "      <td>2018-07-26 03:24:27</td>\n",
       "      <td>2018-07-26 14:31:00</td>\n",
       "      <td>2018-08-07 15:27:45</td>\n",
       "      <td>2018-08-13 00:00:00</td>\n",
       "      <td>8d5266042046a06655c8db133d120ba5</td>\n",
       "      <td>4.0</td>\n",
       "      <td>...</td>\n",
       "      <td>29.0</td>\n",
       "      <td>178.0</td>\n",
       "      <td>1.0</td>\n",
       "      <td>400.0</td>\n",
       "      <td>19.0</td>\n",
       "      <td>13.0</td>\n",
       "      <td>19.0</td>\n",
       "      <td>31570.0</td>\n",
       "      <td>belo horizonte</td>\n",
       "      <td>SP</td>\n",
       "    </tr>\n",
       "    <tr>\n",
       "      <th>4</th>\n",
       "      <td>47770eb9100c2d0c44946d9cf07ec65d</td>\n",
       "      <td>41ce2a54c0b03bf3443c3d931a367089</td>\n",
       "      <td>delivered</td>\n",
       "      <td>2018-08-08 08:38:49</td>\n",
       "      <td>2018-08-08 08:55:23</td>\n",
       "      <td>2018-08-08 13:50:00</td>\n",
       "      <td>2018-08-17 18:06:29</td>\n",
       "      <td>2018-09-04 00:00:00</td>\n",
       "      <td>e73b67b67587f7644d5bd1a52deb1b01</td>\n",
       "      <td>5.0</td>\n",
       "      <td>...</td>\n",
       "      <td>46.0</td>\n",
       "      <td>232.0</td>\n",
       "      <td>1.0</td>\n",
       "      <td>420.0</td>\n",
       "      <td>24.0</td>\n",
       "      <td>19.0</td>\n",
       "      <td>21.0</td>\n",
       "      <td>14840.0</td>\n",
       "      <td>guariba</td>\n",
       "      <td>SP</td>\n",
       "    </tr>\n",
       "  </tbody>\n",
       "</table>\n",
       "<p>5 rows × 39 columns</p>\n",
       "</div>"
      ],
      "text/plain": [
       "                           order_id                       customer_id  \\\n",
       "0  e481f51cbdc54678b7cc49136f2d6af7  9ef432eb6251297304e76186b10a928d   \n",
       "1  e481f51cbdc54678b7cc49136f2d6af7  9ef432eb6251297304e76186b10a928d   \n",
       "2  e481f51cbdc54678b7cc49136f2d6af7  9ef432eb6251297304e76186b10a928d   \n",
       "3  53cdb2fc8bc7dce0b6741e2150273451  b0830fb4747a6c6d20dea0b8c802d7ef   \n",
       "4  47770eb9100c2d0c44946d9cf07ec65d  41ce2a54c0b03bf3443c3d931a367089   \n",
       "\n",
       "  order_status order_purchase_timestamp    order_approved_at  \\\n",
       "0    delivered      2017-10-02 10:56:33  2017-10-02 11:07:15   \n",
       "1    delivered      2017-10-02 10:56:33  2017-10-02 11:07:15   \n",
       "2    delivered      2017-10-02 10:56:33  2017-10-02 11:07:15   \n",
       "3    delivered      2018-07-24 20:41:37  2018-07-26 03:24:27   \n",
       "4    delivered      2018-08-08 08:38:49  2018-08-08 08:55:23   \n",
       "\n",
       "  order_delivered_carrier_date order_delivered_customer_date  \\\n",
       "0          2017-10-04 19:55:00           2017-10-10 21:25:13   \n",
       "1          2017-10-04 19:55:00           2017-10-10 21:25:13   \n",
       "2          2017-10-04 19:55:00           2017-10-10 21:25:13   \n",
       "3          2018-07-26 14:31:00           2018-08-07 15:27:45   \n",
       "4          2018-08-08 13:50:00           2018-08-17 18:06:29   \n",
       "\n",
       "  order_estimated_delivery_date                         review_id  \\\n",
       "0           2017-10-18 00:00:00  a54f0611adc9ed256b57ede6b6eb5114   \n",
       "1           2017-10-18 00:00:00  a54f0611adc9ed256b57ede6b6eb5114   \n",
       "2           2017-10-18 00:00:00  a54f0611adc9ed256b57ede6b6eb5114   \n",
       "3           2018-08-13 00:00:00  8d5266042046a06655c8db133d120ba5   \n",
       "4           2018-09-04 00:00:00  e73b67b67587f7644d5bd1a52deb1b01   \n",
       "\n",
       "   review_score  ... product_name_lenght product_description_lenght  \\\n",
       "0           4.0  ...                40.0                      268.0   \n",
       "1           4.0  ...                40.0                      268.0   \n",
       "2           4.0  ...                40.0                      268.0   \n",
       "3           4.0  ...                29.0                      178.0   \n",
       "4           5.0  ...                46.0                      232.0   \n",
       "\n",
       "  product_photos_qty product_weight_g  product_length_cm product_height_cm  \\\n",
       "0                4.0            500.0               19.0               8.0   \n",
       "1                4.0            500.0               19.0               8.0   \n",
       "2                4.0            500.0               19.0               8.0   \n",
       "3                1.0            400.0               19.0              13.0   \n",
       "4                1.0            420.0               24.0              19.0   \n",
       "\n",
       "   product_width_cm  seller_zip_code_prefix     seller_city  seller_state  \n",
       "0              13.0                  9350.0            maua            SP  \n",
       "1              13.0                  9350.0            maua            SP  \n",
       "2              13.0                  9350.0            maua            SP  \n",
       "3              19.0                 31570.0  belo horizonte            SP  \n",
       "4              21.0                 14840.0         guariba            SP  \n",
       "\n",
       "[5 rows x 39 columns]"
      ]
     },
     "execution_count": 5,
     "metadata": {},
     "output_type": "execute_result"
    }
   ],
   "source": [
    "olist = pd.read_csv('./data/olist_main_dataset.csv', index_col=0)\n",
    "olist.head()"
   ]
  },
  {
   "cell_type": "code",
   "execution_count": 28,
   "id": "5374e304",
   "metadata": {},
   "outputs": [
    {
     "name": "stdout",
     "output_type": "stream",
     "text": [
      "Index(['order_id', 'customer_id', 'order_status', 'order_purchase_timestamp',\n",
      "       'order_approved_at', 'order_delivered_carrier_date',\n",
      "       'order_delivered_customer_date', 'order_estimated_delivery_date',\n",
      "       'review_id', 'review_score', 'review_comment_title',\n",
      "       'review_comment_message', 'review_creation_date',\n",
      "       'review_answer_timestamp', 'payment_sequential', 'payment_type',\n",
      "       'payment_installments', 'payment_value', 'customer_unique_id',\n",
      "       'customer_zip_code_prefix', 'customer_city', 'customer_state',\n",
      "       'order_item_id', 'product_id', 'seller_id', 'shipping_limit_date',\n",
      "       'price', 'freight_value', 'product_category_name',\n",
      "       'product_name_lenght', 'product_description_lenght',\n",
      "       'product_photos_qty', 'product_weight_g', 'product_length_cm',\n",
      "       'product_height_cm', 'product_width_cm', 'seller_zip_code_prefix',\n",
      "       'seller_city', 'seller_state'],\n",
      "      dtype='object')\n"
     ]
    }
   ],
   "source": [
    "print(olist.columns)"
   ]
  },
  {
   "cell_type": "markdown",
   "id": "f244f2e4",
   "metadata": {},
   "source": [
    "We begin by checking the distribution of the response `review_score`."
   ]
  },
  {
   "cell_type": "code",
   "execution_count": 27,
   "id": "77b344ea",
   "metadata": {},
   "outputs": [
    {
     "data": {
      "image/png": "[encoded data removed]",
      "text/plain": [
       "<Figure size 640x480 with 1 Axes>"
      ]
     },
     "metadata": {},
     "output_type": "display_data"
    }
   ],
   "source": [
    "ax = sns.countplot(data=olist, x = 'review_score', color='purple', stat='percent')\n",
    "ax.set_title('Count of Review Scores');"
   ]
  },
  {
   "cell_type": "markdown",
   "id": "10ebe757",
   "metadata": {},
   "source": [
    "We can see a heavy imbalance on the reviews, with the majority being 5-star reviews, something to keep in mind for when we train our model.\n",
    "Now we will check some geographical features of our data."
   ]
  },
  {
   "cell_type": "code",
   "execution_count": 65,
   "id": "a643dc34",
   "metadata": {},
   "outputs": [
    {
     "data": {
      "text/plain": [
       "Text(0.5, 1.0, 'Average Review Score by State')"
      ]
     },
     "execution_count": 65,
     "metadata": {},
     "output_type": "execute_result"
    },
    {
     "data": {
      "image/png": "[encoded data removed]",
      "text/plain": [
       "<Figure size 1600x800 with 2 Axes>"
      ]
     },
     "metadata": {},
     "output_type": "display_data"
    }
   ],
   "source": [
    "fig, axes = subplots(1,2, figsize = (16,8))\n",
    "\n",
    "order_desc = olist['customer_state'].value_counts().index\n",
    "avg_score_by_state = olist.groupby('customer_state')['review_score'].mean()[order_desc]\n",
    "\n",
    "sns.countplot(data=olist, x = 'customer_state', stat='percent', order = order_desc, color='purple', ax = axes[0])\n",
    "axes[0].set_title('Distribution of Orders by State')\n",
    "\n",
    "sns.barplot(data=avg_score_by_state, color='purple')\n",
    "axes[1].set_title('Average Review Score by State')"
   ]
  },
  {
   "cell_type": "code",
   "execution_count": 55,
   "id": "77a569c4",
   "metadata": {},
   "outputs": [
    {
     "data": {
      "text/plain": [
       "customer_state\n",
       "SP    4.108609\n",
       "RJ    3.799830\n",
       "MG    4.068543\n",
       "RS    4.027184\n",
       "PR    4.087130\n",
       "SC    3.988861\n",
       "BA    3.807235\n",
       "DF    3.987981\n",
       "GO    3.975710\n",
       "ES    3.974656\n",
       "PE    3.957469\n",
       "CE    3.810167\n",
       "MT    3.890277\n",
       "PA    3.786101\n",
       "MS    4.054651\n",
       "MA    3.670588\n",
       "PB    3.992101\n",
       "PI    3.849123\n",
       "RN    4.049296\n",
       "AL    3.715835\n",
       "SE    3.795511\n",
       "TO    4.138643\n",
       "RO    3.979381\n",
       "AM    4.070175\n",
       "AC    4.094737\n",
       "AP    4.240964\n",
       "RR    3.576923\n",
       "Name: review_score, dtype: float64"
      ]
     },
     "execution_count": 55,
     "metadata": {},
     "output_type": "execute_result"
    }
   ],
   "source": [
    "olist.groupby('customer_state')['review_score'].mean()[order_desc]"
   ]
  }
 ],
 "metadata": {
  "kernelspec": {
   "display_name": ".venv",
   "language": "python",
   "name": "python3"
  },
  "language_info": {
   "codemirror_mode": {
    "name": "ipython",
    "version": 3
   },
   "file_extension": ".py",
   "mimetype": "text/x-python",
   "name": "python",
   "nbconvert_exporter": "python",
   "pygments_lexer": "ipython3",
   "version": "3.13.7"
  }
 },
 "nbformat": 4,
 "nbformat_minor": 5
}
